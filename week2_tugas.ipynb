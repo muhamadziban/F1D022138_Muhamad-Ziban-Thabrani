{
 "cells": [
  {
   "cell_type": "code",
   "execution_count": 4,
   "metadata": {},
   "outputs": [
    {
     "name": "stdout",
     "output_type": "stream",
     "text": [
      "Rank\n",
      "Rank\n",
      "Rank\n",
      " \n",
      " \n",
      " \n",
      "6\n",
      "5\n",
      "3\n",
      " \n",
      " \n",
      " \n",
      "Anda Proses Genap\n",
      "Anda Proses Ganjil\n",
      "Anda Proses Ganjil\n",
      " \n",
      " \n",
      " \n",
      "(C:\\Users\\gusbr)\n",
      "(C:\\Users\\gusbr)\n",
      "(C:\\Users\\gusbr)\n",
      "\n",
      "\n",
      "\n",
      "Rank 4\n",
      "Rank\n",
      "Rank\n",
      " \n",
      " \n",
      " \n",
      "Anda Proses Genap\n",
      "1\n",
      "0\n",
      " \n",
      " \n",
      "Rank\n",
      " \n",
      "(C:\\Users\\gusbr)\n",
      "Anda Proses Ganjil\n",
      " \n",
      "Anda Proses Genap\n",
      "\n",
      " \n",
      "2\n",
      " \n",
      "(C:\\Users\\gusbr)\n",
      " \n",
      "(C:\\Users\\gusbr)\n",
      "\n",
      "Anda Proses Genap\n",
      "\n",
      " (C:\\Users\\gusbr)\n"
     ]
    }
   ],
   "source": [
    "!mpiexec -n 7 python ./py/week2_tugas.py"
   ]
  }
 ],
 "metadata": {
  "kernelspec": {
   "display_name": "Python 3",
   "language": "python",
   "name": "python3"
  },
  "language_info": {
   "codemirror_mode": {
    "name": "ipython",
    "version": 3
   },
   "file_extension": ".py",
   "mimetype": "text/x-python",
   "name": "python",
   "nbconvert_exporter": "python",
   "pygments_lexer": "ipython3",
   "version": "3.12.2"
  }
 },
 "nbformat": 4,
 "nbformat_minor": 2
}
